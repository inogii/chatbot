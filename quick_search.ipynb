{
 "cells": [
  {
   "cell_type": "code",
   "execution_count": 2,
   "metadata": {},
   "outputs": [
    {
     "name": "stderr",
     "output_type": "stream",
     "text": [
      "/Users/inogii/miniconda3/envs/default/lib/python3.11/site-packages/tqdm/auto.py:21: TqdmWarning: IProgress not found. Please update jupyter and ipywidgets. See https://ipywidgets.readthedocs.io/en/stable/user_install.html\n",
      "  from .autonotebook import tqdm as notebook_tqdm\n",
      "/Users/inogii/miniconda3/envs/default/lib/python3.11/site-packages/transformers/utils/generic.py:441: UserWarning: torch.utils._pytree._register_pytree_node is deprecated. Please use torch.utils._pytree.register_pytree_node instead.\n",
      "  _torch_pytree._register_pytree_node(\n",
      "/Users/inogii/miniconda3/envs/default/lib/python3.11/site-packages/transformers/utils/generic.py:309: UserWarning: torch.utils._pytree._register_pytree_node is deprecated. Please use torch.utils._pytree.register_pytree_node instead.\n",
      "  _torch_pytree._register_pytree_node(\n",
      "/Users/inogii/miniconda3/envs/default/lib/python3.11/site-packages/transformers/utils/generic.py:309: UserWarning: torch.utils._pytree._register_pytree_node is deprecated. Please use torch.utils._pytree.register_pytree_node instead.\n",
      "  _torch_pytree._register_pytree_node(\n"
     ]
    }
   ],
   "source": [
    "import src.pdfparser as pp"
   ]
  },
  {
   "cell_type": "code",
   "execution_count": 3,
   "metadata": {},
   "outputs": [],
   "source": [
    "# import pickle\n",
    "# import json\n",
    "# student_manual = pickle.load(open(\"data/student_manual.pickle\", \"rb\"))\n",
    "# json.dump(student_manual, open(\"data/student_manual.json\", \"w\"), indent=4)"
   ]
  },
  {
   "cell_type": "code",
   "execution_count": 4,
   "metadata": {},
   "outputs": [],
   "source": [
    "# parse the pdf documents to extract text per page\n",
    "# parser = pp.PdfProcessor('student_manual', 'data/mldm_mlde.pdf', auto=True) "
   ]
  },
  {
   "cell_type": "code",
   "execution_count": 5,
   "metadata": {},
   "outputs": [
    {
     "name": "stdout",
     "output_type": "stream",
     "text": [
      "Downloading...\n",
      "Model BAAI/bge-small-en-v1.5 loaded.\n"
     ]
    },
    {
     "name": "stderr",
     "output_type": "stream",
     "text": [
      "506it [00:50,  9.95it/s]\n"
     ]
    }
   ],
   "source": [
    "# create embeddings (from parsed documents)\n",
    "searcher = pp.NeuralSearcher('student_manual', recreate=True, documents='data/student_manual.pickle')\n",
    "#searcher = pp.NeuralSearcher('student_manual')"
   ]
  },
  {
   "cell_type": "code",
   "execution_count": 6,
   "metadata": {},
   "outputs": [
    {
     "name": "stdout",
     "output_type": "stream",
     "text": [
      "---------------------\n",
      "Querying documents...\n",
      "---------------------\n",
      "Query: How do the checkpoints help in case of failure?\n",
      "\n",
      "[Page 13] 'Contents \n",
      "' (score: 0.749)\n",
      "[Page 333] 'Module 6: Using HPE Machine Learning Development Environment  \n",
      "' (score: 0.743)\n",
      "[Page 329] 'Module 6: Using HPE Machine Learning Development Environment  \n",
      "' (score: 0.721)\n",
      "[Page 331] 'Module 6: Using HPE Machine Learning Development Environment  \n",
      "' (score: 0.705)\n",
      "[Page 334] 'Module 6: Using HPE Machine Learning Development Environment  \n",
      "' (score: 0.698)\n"
     ]
    }
   ],
   "source": [
    "query = 'How do the checkpoints help in case of failure?'\n",
    "searcher.quick_search(query, verbose=(2,0))"
   ]
  },
  {
   "cell_type": "code",
   "execution_count": 7,
   "metadata": {},
   "outputs": [
    {
     "name": "stdout",
     "output_type": "stream",
     "text": [
      "---------------------\n",
      "Querying documents...\n",
      "---------------------\n",
      "Query: How can ML teams benefit from HPE MLDE?\n",
      "\n",
      "[Page 438] 'Module 8: Engaging with Customers and Running a Demonstration \n",
      "' (score: 0.855)\n",
      "[Page 437] 'Module 8: Engaging with Customers and Running a Demonstration \n",
      "' (score: 0.835)\n",
      "[Page 440] 'Module 8: Engaging with Customers and Running a Demonstration \n",
      "' (score: 0.834)\n",
      "[Page 489] 'Appendix A: Answers \n",
      "' (score: 0.815)\n",
      "[Page 443] 'Module 8: Engaging with Customers and Running a Demonstration \n",
      "' (score: 0.815)\n"
     ]
    }
   ],
   "source": [
    "query = 'How can ML teams benefit from HPE MLDE?'\n",
    "searcher.quick_search(query,verbose=(2,0))"
   ]
  },
  {
   "cell_type": "code",
   "execution_count": 8,
   "metadata": {},
   "outputs": [
    {
     "name": "stdout",
     "output_type": "stream",
     "text": [
      "---------------------\n",
      "Querying documents...\n",
      "---------------------\n",
      "Query: An ML engineer is working with data in an HPE Machine Learning Data Management repository named RepoXYZ. The engineer has added new data to the repository v1 branch but thinks there might be an issue witht the data. The engineer want to return the v1 branch to the state before the new data was added, but also acrchive the dara as it currently is. What can he do? \n",
      "\n",
      "[Page 483] 'Appendix A: Answers \n",
      "' (score: 0.818)\n",
      "[Page 108] 'Module 3: Using HPE Machine Learning Data Management \n",
      "' (score: 0.816)\n",
      "[Page 110] 'Module 3: Using HPE Machine Learning Data Management \n",
      "' (score: 0.814)\n",
      "[Page 109] 'Module 3: Using HPE Machine Learning Data Management \n",
      "' (score: 0.802)\n",
      "[Page 127] 'Module 3: Using HPE Machine Learning Data Management \n",
      "' (score: 0.798)\n"
     ]
    }
   ],
   "source": [
    "query = 'An ML engineer is working with data in an HPE Machine Learning Data Management repository named RepoXYZ. The engineer has added new data to the repository v1 branch but thinks there might be an issue witht the data. The engineer want to return the v1 branch to the state before the new data was added, but also acrchive the dara as it currently is. What can he do? '\n",
    "searcher.quick_search(query)"
   ]
  },
  {
   "cell_type": "code",
   "execution_count": 9,
   "metadata": {},
   "outputs": [
    {
     "name": "stdout",
     "output_type": "stream",
     "text": [
      "---------------------\n",
      "Querying documents...\n",
      "---------------------\n",
      "Query: How does HPE recommend Determined be deployed?\n",
      "\n",
      "[Page 473] 'Module 8: Engaging with Customers and Running a Demonstration \n",
      "' (score: 0.751)\n",
      "[Page 459] 'Module 8: Engaging with Customers and Running a Demonstration \n",
      "' (score: 0.737)\n",
      "[Page 244] 'Module 5: HPE Machine Learning Development Environment Architecture \n",
      "' (score: 0.731)\n",
      "[Page 245] 'Module 5: HPE Machine Learning Development Environment Architecture \n",
      "' (score: 0.714)\n",
      "[Page 471] 'Module 8: Engaging with Customers and Running a Demonstration \n",
      "' (score: 0.709)\n"
     ]
    }
   ],
   "source": [
    "query = 'How does HPE recommend Determined be deployed?'\n",
    "searcher.quick_search(query, limit=5)"
   ]
  },
  {
   "cell_type": "code",
   "execution_count": 10,
   "metadata": {},
   "outputs": [
    {
     "name": "stdout",
     "output_type": "stream",
     "text": [
      "---------------------\n",
      "Querying documents...\n",
      "---------------------\n",
      "Query: is there a Pachyderm Jupyter Notebook extension?\n",
      "\n",
      "[Page 125] 'Module 3: Using HPE Machine Learning Data Management \n",
      "' (score: 0.771)\n",
      "[Page 54] 'Module 1: Machine Learning and Deep Learning Fundamentals \n",
      "' (score: 0.702)\n",
      "[Page 71] 'Module 2: Introduction to HPE Machine Learning Data Management \n",
      "' (score: 0.663)\n",
      "[Page 123] 'Module 3: Using HPE Machine Learning Data Management \n",
      "' (score: 0.659)\n",
      "[Page 107] 'Module 3: Using HPE Machine Learning Data Management \n",
      "' (score: 0.658)\n"
     ]
    }
   ],
   "source": [
    "searcher.quick_search('is there a Pachyderm Jupyter Notebook extension?')"
   ]
  },
  {
   "cell_type": "code",
   "execution_count": 11,
   "metadata": {},
   "outputs": [
    {
     "name": "stdout",
     "output_type": "stream",
     "text": [
      "---------------------\n",
      "Querying documents...\n",
      "---------------------\n",
      "Query: Why join Pachyderm and DeterminedAI in one solution instead of using separately\n",
      "\n",
      "[Page 459] 'Module 8: Engaging with Customers and Running a Demonstration \n",
      "' (score: 0.684)\n",
      "[Page 501] 'Appendix B: Glossary \n",
      "' (score: 0.661)\n",
      "[Page 71] 'Module 2: Introduction to HPE Machine Learning Data Management \n",
      "' (score: 0.655)\n",
      "[Page 55] 'Module 1: Machine Learning and Deep Learning Fundamentals \n",
      "' (score: 0.644)\n",
      "[Page 56] 'Module 1: Machine Learning and Deep Learning Fundamentals \n",
      "' (score: 0.641)\n"
     ]
    }
   ],
   "source": [
    "searcher.quick_search('Why join Pachyderm and DeterminedAI in one solution instead of using separately')"
   ]
  },
  {
   "cell_type": "code",
   "execution_count": 12,
   "metadata": {},
   "outputs": [
    {
     "name": "stdout",
     "output_type": "stream",
     "text": [
      "---------------------\n",
      "Querying documents...\n",
      "---------------------\n",
      "Query: What is the Horovod Launcher?\n",
      "\n",
      "[Page 352] 'Module 6: Using HPE Machine Learning Development Environment  \n",
      "' (score: 0.664)\n",
      "[Page 353] 'Module 6: Using HPE Machine Learning Development Environment  \n",
      "' (score: 0.628)\n",
      "[Page 319] 'Module 6: Using HPE Machine Learning Development Environment  \n",
      "' (score: 0.621)\n",
      "[Page 360] 'Module 6: Using HPE Machine Learning Development Environment  \n",
      "' (score: 0.572)\n",
      "[Page 274] 'Module 5: HPE Machine Learning Development Environment Architecture \n",
      "' (score: 0.550)\n"
     ]
    }
   ],
   "source": [
    "searcher.quick_search('What is the Horovod Launcher?')"
   ]
  },
  {
   "cell_type": "code",
   "execution_count": 13,
   "metadata": {},
   "outputs": [
    {
     "name": "stdout",
     "output_type": "stream",
     "text": [
      "---------------------\n",
      "Querying documents...\n",
      "---------------------\n",
      "Query: Benefits of DeepSpeed\n",
      "\n",
      "[Page 362] 'Module 6: Using HPE Machine Learning Development Environment  \n",
      "' (score: 0.698)\n",
      "[Page 203] 'Module 4: Why HPE Machine Learning Development Environment\n",
      "' (score: 0.691)\n",
      "[Page 383] 'Module 6: Using HPE Machine Learning Development Environment  \n",
      "' (score: 0.675)\n",
      "[Page 187] 'Module 4: Why HPE Machine Learning Development Environment\n",
      "' (score: 0.638)\n",
      "[Page 495] 'Appendix B: Glossary \n",
      "' (score: 0.632)\n"
     ]
    }
   ],
   "source": [
    "searcher.quick_search('Benefits of DeepSpeed')"
   ]
  },
  {
   "cell_type": "code",
   "execution_count": 14,
   "metadata": {},
   "outputs": [
    {
     "name": "stdout",
     "output_type": "stream",
     "text": [
      "---------------------\n",
      "Querying documents...\n",
      "---------------------\n",
      "Query: ASHA vs SHA\n",
      "\n",
      "[Page 188] 'Module 4: Why HPE Machine Learning Development Environment\n",
      "' (score: 0.727)\n",
      "[Page 371] 'Module 6: Using HPE Machine Learning Development Environment  \n",
      "' (score: 0.652)\n",
      "[Page 375] 'Module 6: Using HPE Machine Learning Development Environment  \n",
      "' (score: 0.637)\n",
      "[Page 484] 'Appendix A: Answers \n",
      "' (score: 0.631)\n",
      "[Page 200] 'Module 4: Why HPE Machine Learning Development Environment\n",
      "' (score: 0.617)\n"
     ]
    }
   ],
   "source": [
    "searcher.quick_search('ASHA vs SHA')"
   ]
  },
  {
   "cell_type": "code",
   "execution_count": 15,
   "metadata": {},
   "outputs": [
    {
     "name": "stdout",
     "output_type": "stream",
     "text": [
      "---------------------\n",
      "Querying documents...\n",
      "---------------------\n",
      "Query: how to set concurrent trials in the config file?\n",
      "\n",
      "[Page 385] 'Module 6: Using HPE Machine Learning Development Environment  \n",
      "' (score: 0.776)\n",
      "[Page 374] 'Module 6: Using HPE Machine Learning Development Environment  \n",
      "' (score: 0.754)\n",
      "[Page 354] 'Module 6: Using HPE Machine Learning Development Environment  \n",
      "' (score: 0.723)\n",
      "[Page 185] 'Module 4: Why HPE Machine Learning Development Environment\n",
      "' (score: 0.722)\n",
      "[Page 394] 'Module 7: Additional HPE Machine Learning Development Environment Concepts \n",
      "' (score: 0.718)\n"
     ]
    }
   ],
   "source": [
    "searcher.quick_search('how to set concurrent trials in the config file?', limit=5)"
   ]
  },
  {
   "cell_type": "code",
   "execution_count": 16,
   "metadata": {},
   "outputs": [
    {
     "name": "stdout",
     "output_type": "stream",
     "text": [
      "---------------------\n",
      "Querying documents...\n",
      "---------------------\n",
      "Query: what is SLURM?\n",
      "\n",
      "[Page 504] 'Appendix B: Glossary \n",
      "' (score: 0.709)\n",
      "[Page 267] 'Module 5: HPE Machine Learning Development Environment Architecture \n",
      "' (score: 0.659)\n",
      "[Page 407] 'Module 7: Additional HPE Machine Learning Development Environment Concepts \n",
      "' (score: 0.595)\n",
      "[Page 502] 'Appendix B: Glossary \n",
      "' (score: 0.579)\n",
      "[Page 270] 'Module 5: HPE Machine Learning Development Environment Architecture \n",
      "' (score: 0.578)\n"
     ]
    }
   ],
   "source": [
    "searcher.quick_search('what is SLURM?', limit=5)"
   ]
  },
  {
   "cell_type": "code",
   "execution_count": 17,
   "metadata": {},
   "outputs": [
    {
     "name": "stdout",
     "output_type": "stream",
     "text": [
      "---------------------\n",
      "Querying documents...\n",
      "---------------------\n",
      "Query: What are chief officers executives interested in\n",
      "\n",
      "[Page 430] 'Module 8: Engaging with Customers and Running a Demonstration \n",
      "' (score: 0.628)\n",
      "[Page 426] 'Module 8: Engaging with Customers and Running a Demonstration \n",
      "' (score: 0.562)\n",
      "[Page 429] 'Module 8: Engaging with Customers and Running a Demonstration \n",
      "' (score: 0.551)\n",
      "[Page 440] 'Module 8: Engaging with Customers and Running a Demonstration \n",
      "' (score: 0.551)\n",
      "[Page 423] 'Module 8: Engaging with Customers and Running a Demonstration \n",
      "' (score: 0.540)\n"
     ]
    }
   ],
   "source": [
    "searcher.quick_search('What are chief officers executives interested in', limit=5)"
   ]
  },
  {
   "cell_type": "code",
   "execution_count": 18,
   "metadata": {},
   "outputs": [
    {
     "name": "stdout",
     "output_type": "stream",
     "text": [
      "---------------------\n",
      "Querying documents...\n",
      "---------------------\n",
      "Query: When you have different trials and several are in the queue, how does the priority affect\n",
      "\n",
      "[Page 398] 'Module 7: Additional HPE Machine Learning Development Environment Concepts \n",
      "' (score: 0.769)\n",
      "[Page 399] 'Module 7: Additional HPE Machine Learning Development Environment Concepts \n",
      "' (score: 0.751)\n",
      "[Page 420] 'Module 7: Additional HPE Machine Learning Development Environment Concepts \n",
      "' (score: 0.700)\n",
      "[Page 394] 'Module 7: Additional HPE Machine Learning Development Environment Concepts \n",
      "' (score: 0.696)\n",
      "[Page 397] 'Module 7: Additional HPE Machine Learning Development Environment Concepts \n",
      "' (score: 0.686)\n"
     ]
    }
   ],
   "source": [
    "searcher.quick_search('When you have different trials and several are in the queue, how does the priority affect', limit=5)"
   ]
  },
  {
   "cell_type": "code",
   "execution_count": 19,
   "metadata": {},
   "outputs": [
    {
     "name": "stdout",
     "output_type": "stream",
     "text": [
      "---------------------\n",
      "Querying documents...\n",
      "---------------------\n",
      "Query: a customer is deploying MLDE on on-prem infrastructure using agent-based resource management model. The customer want to run some experiments on servers with 8 NVIDIA GPUs and other experiments on servers with only 4 NVIDIA GPUs. What would you recommend?\n",
      "\n",
      "[Page 445] 'Module 8: Engaging with Customers and Running a Demonstration \n",
      "' (score: 0.810)\n",
      "[Page 250] 'Module 5: HPE Machine Learning Development Environment Architecture \n",
      "' (score: 0.801)\n",
      "[Page 447] 'Module 8: Engaging with Customers and Running a Demonstration \n",
      "' (score: 0.793)\n",
      "[Page 451] 'Module 8: Engaging with Customers and Running a Demonstration \n",
      "' (score: 0.792)\n",
      "[Page 449] 'Module 8: Engaging with Customers and Running a Demonstration \n",
      "' (score: 0.791)\n"
     ]
    }
   ],
   "source": [
    "searcher.quick_search('a customer is deploying MLDE on on-prem infrastructure using agent-based resource management model. The customer want to run some experiments on servers with 8 NVIDIA GPUs and other experiments on servers with only 4 NVIDIA GPUs. What would you recommend?', limit=5)"
   ]
  },
  {
   "cell_type": "code",
   "execution_count": 20,
   "metadata": {},
   "outputs": [
    {
     "name": "stdout",
     "output_type": "stream",
     "text": [
      "---------------------\n",
      "Querying documents...\n",
      "---------------------\n",
      "Query: MLDM licensed?\n",
      "\n",
      "[Page 72] 'Module 2: Introduction to HPE Machine Learning Data Management \n",
      "' (score: 0.653)\n",
      "[Page 209] 'Module 4: Why HPE Machine Learning Development Environment\n",
      "' (score: 0.652)\n",
      "[Page 446] 'Module 8: Engaging with Customers and Running a Demonstration \n",
      "' (score: 0.631)\n",
      "[Page 436] 'Module 8: Engaging with Customers and Running a Demonstration \n",
      "' (score: 0.597)\n",
      "[Page 71] 'Module 2: Introduction to HPE Machine Learning Data Management \n",
      "' (score: 0.591)\n"
     ]
    }
   ],
   "source": [
    "searcher.quick_search('MLDM licensed?', limit=5)"
   ]
  },
  {
   "cell_type": "code",
   "execution_count": null,
   "metadata": {},
   "outputs": [],
   "source": []
  }
 ],
 "metadata": {
  "kernelspec": {
   "display_name": ".venv",
   "language": "python",
   "name": "python3"
  },
  "language_info": {
   "codemirror_mode": {
    "name": "ipython",
    "version": 3
   },
   "file_extension": ".py",
   "mimetype": "text/x-python",
   "name": "python",
   "nbconvert_exporter": "python",
   "pygments_lexer": "ipython3",
   "version": "3.11.2"
  }
 },
 "nbformat": 4,
 "nbformat_minor": 2
}
